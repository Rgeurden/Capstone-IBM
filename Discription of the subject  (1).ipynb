{
 "cells": [
  {
   "cell_type": "markdown",
   "metadata": {},
   "source": [
    "The Netherlands has 20 shrinking and anticipating areas. These are regions that are experiencing population decline. Whether they will have to deal with this in the future. The government wants to keep shrinking and anticipating areas livable.\n",
    "\n",
    "Differences between shrinking areas and anticipation areas\n",
    "The areas where the population decline is strongest are the top shrinking areas. The expectation is that the population in these areas will fall by 16% until 2040. Municipalities in Zeelandic Flanders, South Limburg and North and East Groningen in particular have to deal with a falling number of inhabitants.\n",
    "\n",
    "In addition, there are areas where the population is not yet declining, but it will in the future. These are the anticipation areas. The expectation is that the number of inhabitants will fall by 4% until 2040.\n",
    "\n",
    "In the other parts of the Netherlands, the number of inhabitants will grow by 11% until 2040.\n",
    "\n",
    "The focus of this research is the South of Limburg and the comparison of 2 medium cities in this region to check the most common venue and the borough which needs most attention \n"
   ]
  }
 ],
 "metadata": {
  "kernelspec": {
   "display_name": "Python",
   "language": "python",
   "name": "conda-env-python-py"
  },
  "language_info": {
   "codemirror_mode": {
    "name": "ipython",
    "version": 3
   },
   "file_extension": ".py",
   "mimetype": "text/x-python",
   "name": "python",
   "nbconvert_exporter": "python",
   "pygments_lexer": "ipython3",
   "version": "3.6.7"
  }
 },
 "nbformat": 4,
 "nbformat_minor": 4
}
